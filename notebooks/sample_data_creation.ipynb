{
 "cells": [
  {
   "cell_type": "code",
   "execution_count": 1,
   "metadata": {
    "collapsed": true
   },
   "outputs": [],
   "source": [
    "import pandas as pd"
   ]
  },
  {
   "cell_type": "code",
   "execution_count": 2,
   "metadata": {
    "collapsed": true
   },
   "outputs": [],
   "source": [
    "context = [\n",
    "    \"Hi, how are you doing?\",\n",
    "    \"How's it going?\", \n",
    "    \"How are you doing today?\", \n",
    "    \"Everything's been good with you?\"\n",
    "]\n",
    "\n",
    "answer = [\n",
    "    \"I'm fine. How about yourself?\", \n",
    "    \"I'm doing well. How about you?\", \n",
    "    \"I'm doing great. What about you?\", \n",
    "    \"I haven't been better. How about yourself?\"\n",
    "]"
   ]
  },
  {
   "cell_type": "code",
   "execution_count": 6,
   "metadata": {
    "collapsed": true
   },
   "outputs": [],
   "source": [
    "df = pd.DataFrame([context, answer]).T\n",
    "\n",
    "df.columns = ['context', 'answer']\n",
    "\n",
    "df"
   ]
  },
  {
   "cell_type": "code",
   "execution_count": 9,
   "metadata": {
    "collapsed": true
   },
   "outputs": [],
   "source": [
    "df.to_csv('../data/sample.csv', index=False)"
   ]
  },
  {
   "cell_type": "markdown",
   "metadata": {},
   "source": [
    "## dummy"
   ]
  },
  {
   "cell_type": "code",
   "execution_count": 2,
   "metadata": {
    "collapsed": true
   },
   "outputs": [],
   "source": [
    "context = [\n",
    "    \"qwe wer ert ert rty\",\n",
    "    \"asd sdf fgh dfg\", \n",
    "    \"zxc xcv cvb vbn\", \n",
    "    \"iop jkl bnm\"\n",
    "]\n",
    "\n",
    "answer = [\n",
    "    \"qwe wer ert ert rty qwe\", \n",
    "    \"asd sdf fgh dfg cc\", \n",
    "    \"zxc xcv cvb vbn yer\", \n",
    "    \"iop jkl bnm qq\"\n",
    "]"
   ]
  },
  {
   "cell_type": "code",
   "execution_count": 3,
   "metadata": {},
   "outputs": [
    {
     "data": {
      "text/html": [
       "<div>\n",
       "<style scoped>\n",
       "    .dataframe tbody tr th:only-of-type {\n",
       "        vertical-align: middle;\n",
       "    }\n",
       "\n",
       "    .dataframe tbody tr th {\n",
       "        vertical-align: top;\n",
       "    }\n",
       "\n",
       "    .dataframe thead th {\n",
       "        text-align: right;\n",
       "    }\n",
       "</style>\n",
       "<table border=\"1\" class=\"dataframe\">\n",
       "  <thead>\n",
       "    <tr style=\"text-align: right;\">\n",
       "      <th></th>\n",
       "      <th>context</th>\n",
       "      <th>answer</th>\n",
       "    </tr>\n",
       "  </thead>\n",
       "  <tbody>\n",
       "    <tr>\n",
       "      <th>0</th>\n",
       "      <td>qwe wer ert ert rty</td>\n",
       "      <td>qwe wer ert ert rty qwe</td>\n",
       "    </tr>\n",
       "    <tr>\n",
       "      <th>1</th>\n",
       "      <td>asd sdf fgh dfg</td>\n",
       "      <td>asd sdf fgh dfg cc</td>\n",
       "    </tr>\n",
       "    <tr>\n",
       "      <th>2</th>\n",
       "      <td>zxc xcv cvb vbn</td>\n",
       "      <td>zxc xcv cvb vbn yer</td>\n",
       "    </tr>\n",
       "    <tr>\n",
       "      <th>3</th>\n",
       "      <td>iop jkl bnm</td>\n",
       "      <td>iop jkl bnm qq</td>\n",
       "    </tr>\n",
       "  </tbody>\n",
       "</table>\n",
       "</div>"
      ],
      "text/plain": [
       "               context                   answer\n",
       "0  qwe wer ert ert rty  qwe wer ert ert rty qwe\n",
       "1      asd sdf fgh dfg       asd sdf fgh dfg cc\n",
       "2      zxc xcv cvb vbn      zxc xcv cvb vbn yer\n",
       "3          iop jkl bnm           iop jkl bnm qq"
      ]
     },
     "execution_count": 3,
     "metadata": {},
     "output_type": "execute_result"
    }
   ],
   "source": [
    "df = pd.DataFrame([context, answer]).T\n",
    "\n",
    "df.columns = ['context', 'answer']\n",
    "\n",
    "df"
   ]
  },
  {
   "cell_type": "code",
   "execution_count": 5,
   "metadata": {
    "collapsed": true
   },
   "outputs": [],
   "source": [
    "df.to_csv('../data/sample/data.csv', index=False)"
   ]
  },
  {
   "cell_type": "code",
   "execution_count": null,
   "metadata": {
    "collapsed": true
   },
   "outputs": [],
   "source": []
  }
 ],
 "metadata": {
  "kernelspec": {
   "display_name": "Python 3",
   "language": "python",
   "name": "python3"
  },
  "language_info": {
   "codemirror_mode": {
    "name": "ipython",
    "version": 3
   },
   "file_extension": ".py",
   "mimetype": "text/x-python",
   "name": "python",
   "nbconvert_exporter": "python",
   "pygments_lexer": "ipython3",
   "version": "3.6.8"
  }
 },
 "nbformat": 4,
 "nbformat_minor": 2
}
